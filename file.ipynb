{
 "cells": [
  {
   "cell_type": "code",
   "execution_count": 17,
   "metadata": {},
   "outputs": [
    {
     "name": "stdout",
     "output_type": "stream",
     "text": [
      "========= test  1  ==============\n",
      "=================================\n",
      "4\n",
      "-1\n",
      "2\n",
      "5\n",
      "5\n",
      "0\n"
     ]
    }
   ],
   "source": [
    "\"\"\"\n",
    "Project for Week 4 of \"Python Data Representations\".\n",
    "Find differences in file contents.\n",
    "\n",
    "Be sure to read the project description page for further information\n",
    "about the expected behavior of the program.\n",
    "\"\"\"\n",
    "\n",
    "IDENTICAL = -1\n",
    "\n",
    "def singleline_diff(line1, line2):\n",
    "    \"\"\"\n",
    "    Inputs:\n",
    "      line1 - first single line string\n",
    "      line2 - second single line string\n",
    "    Output:\n",
    "      Returns the index where the first difference between\n",
    "      line1 and line2 occurs.\n",
    "\n",
    "      Returns IDENTICAL if the two lines are the same.\n",
    "    \"\"\"\n",
    "    if line1 == line2:\n",
    "       return IDENTICAL\n",
    "    \n",
    "    leng = min(len(line1),len(line2))\n",
    "    for item in range(leng):\n",
    "         if line1[item] != line2[item]:\n",
    "            return item\n",
    "         if item == (leng-1):\n",
    "             return item+1\n",
    "         \n"
   ]
  },
  {
   "cell_type": "code",
   "execution_count": 36,
   "metadata": {},
   "outputs": [
    {
     "name": "stdout",
     "output_type": "stream",
     "text": [
      "string\n",
      "=^\n",
      "s`tring1111\n"
     ]
    }
   ],
   "source": [
    "def singleline_diff_format(line1, line2, idx):\n",
    "    \"\"\"\n",
    "    Inputs:\n",
    "      line1 - first single line string\n",
    "      line2 - second single line string\n",
    "      idx   - index at which to indicate difference\n",
    "    Output:\n",
    "      Returns a three line formatted string showing the location\n",
    "      of the first difference between line1 and line2.\n",
    "\n",
    "      If either input line contains a newline or carriage return,\n",
    "      then returns an empty string.\n",
    "\n",
    "      If idx is not a valid index, then returns an empty string.\n",
    "    \"\"\"\n",
    "    minlen = min(len(line1), len(line2))\n",
    "    if (\"\\n \" in (line1 + line2) or \"\\r\" in (line1 + line2)) or ((idx < 0) or (idx > minlen)) :\n",
    "      return \"\"\n",
    "    else:\n",
    "      prompt = \"=\" * idx + \"^\"\n",
    "      return (line1 + \"\\n\" + prompt + \"\\n\" + line2)\n",
    "\n",
    "\n",
    "\n",
    "line1 = \"string\"\n",
    "line2 = \"s`tring1111\"\n",
    "\n",
    "idx = singleline_diff(line1, line2)\n",
    "print(singleline_diff_format(line1, line2, idx))\n",
    "\n"
   ]
  },
  {
   "cell_type": "code",
   "execution_count": 38,
   "metadata": {},
   "outputs": [
    {
     "name": "stdout",
     "output_type": "stream",
     "text": [
      "Test 1: (-1, -1)\n",
      "Test 2: (0, 0)\n",
      "Test 3: (1, 4)\n",
      "Test 4: (2, 0)\n",
      "Test 5: (-1, -1)\n"
     ]
    }
   ],
   "source": [
    "def multiline_diff(lines1, lines2):\n",
    "    \"\"\"\n",
    "    Inputs:\n",
    "      lines1 - list of single line strings\n",
    "      lines2 - list of single line strings\n",
    "    Output:\n",
    "      Returns a tuple containing the line number (starting from 0) and\n",
    "      the index in that line where the first difference between lines1\n",
    "      and lines2 occurs.\n",
    "\n",
    "      Returns (IDENTICAL, IDENTICAL) if the two lists are the same.\n",
    "    \"\"\"\n",
    "    IDENTICAL = -1\n",
    "    min_len = min(len(lines1), len(lines2))\n",
    "\n",
    "    for i in range(min_len):\n",
    "        diff_index = singleline_diff(lines1[i], lines2[i])\n",
    "        if diff_index != IDENTICAL:\n",
    "            return (i, diff_index)\n",
    "\n",
    "    if len(lines1) != len(lines2):\n",
    "        return (min_len, 0)\n",
    "\n",
    "    return (IDENTICAL, IDENTICAL)\n",
    "\n"
   ]
  },
  {
   "cell_type": "code",
   "execution_count": null,
   "metadata": {},
   "outputs": [],
   "source": [
    "\n",
    "def get_file_lines(filename):\n",
    "    \"\"\"\n",
    "    Inputs:\n",
    "      filename - name of file to read\n",
    "    Output:\n",
    "      Returns a list of lines from the file named filename.  Each\n",
    "      line will be a single line string with no newline ('\\n') or\n",
    "      return ('\\r') characters.\n",
    "\n",
    "      If the file does not exist or is not readable, then the\n",
    "      behavior of this function is undefined.\n",
    "    \"\"\"\n",
    "    lines = []\n",
    "    with open(filename, 'r') as file:\n",
    "        for line in file:\n",
    "            # remove enters\n",
    "            stripped_line = line.rstrip('\\n\\r')\n",
    "            lines.append(stripped_line)\n",
    "    return lines"
   ]
  },
  {
   "cell_type": "code",
   "execution_count": null,
   "metadata": {},
   "outputs": [],
   "source": [
    "\n",
    "def file_diff_format(filename1, filename2):\n",
    "    \"\"\"\n",
    "    Inputs:\n",
    "      filename1 - name of first file\n",
    "      filename2 - name of second file\n",
    "    Output:\n",
    "      Returns a four line string showing the location of the first\n",
    "      difference between the two files named by the inputs.\n",
    "\n",
    "      If the files are identical, the function instead returns the\n",
    "      string \"No differences\\n\".\n",
    "\n",
    "      If either file does not exist or is not readable, then the\n",
    "      behavior of this function is undefined.\n",
    "    \"\"\"\n",
    "    # 获取两个文件的内容\n",
    "    lines1 = get_file_lines(filename1)\n",
    "    lines2 = get_file_lines(filename2)\n",
    "\n",
    "    # 找出第一个不同的行和索引\n",
    "    line_num, diff_index = multiline_diff(lines1, lines2)\n",
    "\n",
    "    # 如果两个文件完全相同\n",
    "    if line_num == IDENTICAL:\n",
    "        return \"No differences\\n\"\n",
    "\n",
    "    # 格式化输出差异\n",
    "    line1 = lines1[line_num] if line_num < len(lines1) else \"\"\n",
    "    line2 = lines2[line_num] if line_num < len(lines2) else \"\"\n",
    "    diff = singleline_diff_format(line1, line2, diff_index)\n",
    "\n",
    "    return f\"Line {line_num}:\\n{diff}\"\n",
    "\n",
    "# 测试函数\n",
    "filename1 = 'file1.txt'  # 假设这是第一个文件的路径\n",
    "filename2 = 'file2.txt'  # 假设这是第二个文件的路径\n",
    "\n",
    "print(file_diff_format(filename1, filename2))\n"
   ]
  }
 ],
 "metadata": {
  "kernelspec": {
   "display_name": "Python 3",
   "language": "python",
   "name": "python3"
  },
  "language_info": {
   "codemirror_mode": {
    "name": "ipython",
    "version": 3
   },
   "file_extension": ".py",
   "mimetype": "text/x-python",
   "name": "python",
   "nbconvert_exporter": "python",
   "pygments_lexer": "ipython3",
   "version": "3.10.11"
  }
 },
 "nbformat": 4,
 "nbformat_minor": 2
}
