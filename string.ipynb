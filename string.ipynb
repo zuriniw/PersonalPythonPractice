{
 "cells": [
  {
   "cell_type": "markdown",
   "metadata": {},
   "source": [
    "### ⭐string 的声明规则"
   ]
  },
  {
   "cell_type": "markdown",
   "metadata": {},
   "source": [
    "\n",
    "    引号单双都行 但不能混着用\n",
    "    三个单引号让string换行"
   ]
  },
  {
   "cell_type": "code",
   "execution_count": null,
   "metadata": {},
   "outputs": [],
   "source": [
    "string_1 = 'nihao'\n",
    "string_2 = \"nihao\"\n",
    "\n",
    "string_para = '''niha\n",
    "zheyeshi'''"
   ]
  },
  {
   "cell_type": "markdown",
   "metadata": {},
   "source": [
    "\n",
    "string里面可以放任意符号\n",
    "如果里面有单or双引号，string周围的引号应该和里面的区别开来\n",
    "如果里面有单&双引号，应用\\'或者\\\"把字符标注成特殊符号\n",
    "\n",
    "特殊符号：\\t代表tab，\\n代表回车 等等\n",
    "    所以想在string里换行有两种办法：\n",
    "        - 敲入\\n\n",
    "        - 使用三个单引号"
   ]
  },
  {
   "cell_type": "code",
   "execution_count": null,
   "metadata": {},
   "outputs": [],
   "source": [
    "phrase = \"Python is great!\"\n",
    "\n",
    "#first char\n",
    "print(phrase[0])\n",
    "#0作为索引>>>string的第一个字母\n"
   ]
  }
 ],
 "metadata": {
  "language_info": {
   "name": "python"
  }
 },
 "nbformat": 4,
 "nbformat_minor": 2
}
