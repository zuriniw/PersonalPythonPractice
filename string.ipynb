{
 "cells": [
  {
   "cell_type": "markdown",
   "metadata": {},
   "source": [
    "### ⭐string 的声明规则"
   ]
  },
  {
   "cell_type": "markdown",
   "metadata": {},
   "source": [
    "\n",
    "    引号单双都行 但不能混着用\n",
    "    三个单引号让string换行"
   ]
  },
  {
   "cell_type": "code",
   "execution_count": null,
   "metadata": {},
   "outputs": [],
   "source": [
    "string_1 = 'nihao'\n",
    "string_2 = \"nihao\"\n",
    "\n",
    "string_para = '''niha\n",
    "zheyeshi'''"
   ]
  },
  {
   "cell_type": "markdown",
   "metadata": {},
   "source": [
    "\n",
    "string里面可以放任意符号\n",
    "如果里面有单or双引号，string周围的引号应该和里面的区别开来\n",
    "如果里面有单&双引号，应用\\'或者\\\"把字符标注成特殊符号\n",
    "\n",
    "特殊符号：\\t代表tab，\\n代表回车 等等\n",
    "    所以想在string里换行有两种办法：\n",
    "        - 敲入\\n\n",
    "        - 使用三个单引号"
   ]
  },
  {
   "cell_type": "code",
   "execution_count": 3,
   "metadata": {},
   "outputs": [
    {
     "name": "stdout",
     "output_type": "stream",
     "text": [
      "P\n",
      "16\n",
      "!\n"
     ]
    }
   ],
   "source": [
    "phrase = \"Python is great!\"\n",
    "\n",
    "#first char\n",
    "print(phrase[0])\n",
    "#0作为索引>>>string的第一个字母\n",
    "\n",
    "#返回字符串长度\n",
    "print(len(phrase))\n",
    "\n",
    "#返回最后一个字符\n",
    "print(phrase[-1])\n"
   ]
  },
  {
   "cell_type": "code",
   "execution_count": 10,
   "metadata": {},
   "outputs": [
    {
     "name": "stdout",
     "output_type": "stream",
     "text": [
      "28 l\n",
      "102 l\n",
      "54 r\n",
      "83 r\n"
     ]
    }
   ],
   "source": [
    "# 初始化句子\n",
    "sentence = \"When I tell you pick up the left rock, it will be the right one, and then only the right rock will be left.\"\n",
    "\n",
    "# 初始化句子\n",
    "sentence = \"When I tell you pick up the left rock, it will be the right one, and then only the right rock will be left.\"\n",
    "\n",
    "# 使用 find() 查找 'left' 第一次出现的位置\n",
    "firstleft = sentence.find(\"left\")\n",
    "print(firstleft, sentence[firstleft])\n",
    "\n",
    "# 使用 rfind() 查找 'left' 最后一次出现的位置\n",
    "lastleft = sentence.rfind(\"left\")\n",
    "print(lastleft, sentence[lastleft])\n",
    "\n",
    "firstright = sentence.index(\"right\")\n",
    "print(firstright, sentence[firstright])\n",
    "\n",
    "lastright = sentence.rindex(\"right\")\n",
    "print(lastright, sentence[lastright])\n",
    "\n",
    "\n"
   ]
  },
  {
   "cell_type": "markdown",
   "metadata": {},
   "source": [
    "`index()` 和 `rindex()` 方法的主要区别与 `find()` 和 `rfind()` 在于它们在未找到子串时的行为。\n",
    "\n",
    "1. **`index()` 和 `rindex()` 抛出异常**：如果子串不在字符串中，`index()` 和 `rindex()` 会抛出一个 `ValueError` 异常。这个特性在某些情况下非常有用，特别是当你需要确认子串一定存在于字符串中时。如果子串不存在，程序会因为异常而停止，这可以帮助你捕捉错误。\n",
    "\n",
    "2. **`find()` 和 `rfind()` 返回 `-1`**：相比之下，如果子串不在字符串中，`find()` 和 `rfind()` 会返回 `-1`。这在你不想因为子串不存在而让程序出现异常时很有用，比如在进行条件检查时。\n",
    "\n",
    "总的来说，选择使用 `index()`/`rindex()` 还是 `find()`/`rfind()` 取决于你希望程序在未找到子串时的具体行为。如果你需要程序在未找到子串时抛出异常，以便于你进行错误处理或调试，那么 `index()` 和 `rindex()` 是更好的选择。如果你希望程序在未找到子串时更加宽容，继续执行其他操作，那么 `find()` 和 `rfind()` 会更适合。"
   ]
  },
  {
   "cell_type": "code",
   "execution_count": 11,
   "metadata": {},
   "outputs": [
    {
     "name": "stdout",
     "output_type": "stream",
     "text": [
      "Number of lefts: 2\n"
     ]
    }
   ],
   "source": [
    "print(\"Number of lefts:\", sentence.count(\"left\"))\n"
   ]
  },
  {
   "cell_type": "markdown",
   "metadata": {},
   "source": [
    "### ⭐formatting strings"
   ]
  },
  {
   "cell_type": "markdown",
   "metadata": {},
   "source": [
    "📌记忆关键点：\n",
    "\n",
    ">{}：基本的占位符。\n",
    "\n",
    ">{0}、{1}：带索引的占位符，用于指定 .format() 方法中参数的顺序。\n",
    "\n",
    ">:^、:<、:>：分别用于居中、左对齐、右对齐。\n",
    "\n",
    ">数字（如 :^7）：指定字段宽度。"
   ]
  },
  {
   "cell_type": "markdown",
   "metadata": {},
   "source": [
    "1. 重复调用\n",
    "\n",
    "在大括号里加数字{0}或者{1}允许重复调用后面.format()里面的第几个位置的参数的便捷方式，而不必每次都重复写入相同的变量。\n",
    "这在你需要在字符串中多次引用同一变量时特别有用"
   ]
  },
  {
   "cell_type": "code",
   "execution_count": 12,
   "metadata": {},
   "outputs": [
    {
     "name": "stdout",
     "output_type": "stream",
     "text": [
      "你想了想，然后说：'我最喜欢的颜色是蓝色。' 魔术师微笑着说：'我知道了，你选择的颜色是……蓝色！'\n"
     ]
    }
   ],
   "source": [
    "favorite_color = \"蓝色\"\n",
    "\n",
    "magic_show = \"你想了想，然后说：'我最喜欢的颜色是{0}。' 魔术师微笑着说：'我知道了，你选择的颜色是……{0}！'\".format(favorite_color)\n",
    "print(magic_show)\n"
   ]
  },
  {
   "cell_type": "markdown",
   "metadata": {},
   "source": [
    "2. 打印的视觉格式\n",
    "\n",
    "假设我们正在为一个儿童派对制作名牌，我们需要在每个名牌上打印孩子的名字和年龄，格式要求名字居中，年龄靠右对齐。"
   ]
  },
  {
   "cell_type": "code",
   "execution_count": 13,
   "metadata": {},
   "outputs": [
    {
     "name": "stdout",
     "output_type": "stream",
     "text": [
      "Pierre    7\n",
      "  May    13\n"
     ]
    }
   ],
   "source": [
    "name1 = \"Pierre\"\n",
    "age1 = 7\n",
    "name2 = \"May\"\n",
    "age2 = 13\n",
    "\n",
    "line1 = \"{0:^7} {1:>3}\".format(name1, age1)\n",
    "line2 = \"{0:^7} {1:>3}\".format(name2, age2)\n",
    "print(line1)\n",
    "print(line2)\n"
   ]
  },
  {
   "cell_type": "markdown",
   "metadata": {},
   "source": [
    "{0:^7} 表示第一个参数（索引为0的参数，即名字）将在一个宽度为7个字符的空间内居中对齐。\n",
    "{1:>3} 表示第二个参数（索引为1的参数，即年龄）将在一个宽度为3个字符的空间内右对齐。"
   ]
  },
  {
   "cell_type": "markdown",
   "metadata": {},
   "source": [
    "### ⭐Practices"
   ]
  },
  {
   "cell_type": "markdown",
   "metadata": {},
   "source": [
    ">string indexing"
   ]
  },
  {
   "cell_type": "code",
   "execution_count": 19,
   "metadata": {},
   "outputs": [
    {
     "name": "stdout",
     "output_type": "stream",
     "text": [
      "It's just a flesh wound\n",
      "Id\n"
     ]
    }
   ],
   "source": [
    "example_string = \"It's just a flesh wound\"\n",
    "print(example_string)\n",
    "\n",
    "solution_string = example_string[0] + example_string[-1]\n",
    "print(solution_string)"
   ]
  },
  {
   "cell_type": "markdown",
   "metadata": {},
   "source": [
    ">string切片|切两刀"
   ]
  },
  {
   "cell_type": "code",
   "execution_count": 18,
   "metadata": {},
   "outputs": [
    {
     "name": "stdout",
     "output_type": "stream",
     "text": [
      "It's just a flesh wound\n",
      "t's just a flesh woun\n"
     ]
    }
   ],
   "source": [
    "example_string = \"It's just a flesh wound\"\n",
    "print(example_string)\n",
    "\n",
    "solution_string = example_string[1:-1]\n",
    "print(solution_string)"
   ]
  },
  {
   "cell_type": "markdown",
   "metadata": {},
   "source": [
    ">string切片|切一刀"
   ]
  },
  {
   "cell_type": "code",
   "execution_count": 17,
   "metadata": {},
   "outputs": [
    {
     "name": "stdout",
     "output_type": "stream",
     "text": [
      "It's just a flesh wound\n",
      "It'und\n"
     ]
    }
   ],
   "source": [
    "\n",
    "example_string = \"It's just a flesh wound\"\n",
    "print(example_string)\n",
    "\n",
    "solution_string = example_string[:3] + example_string[-3:]\n",
    "print(solution_string)"
   ]
  },
  {
   "cell_type": "markdown",
   "metadata": {},
   "source": [
    ">string的乘法和换行方法\n",
    "\n",
    "\\n相当于回车符"
   ]
  },
  {
   "cell_type": "code",
   "execution_count": 16,
   "metadata": {},
   "outputs": [
    {
     "name": "stdout",
     "output_type": "stream",
     "text": [
      "Hello\n",
      "Hello\n",
      "Hello\n",
      "Hello\n",
      "Hello\n",
      "\n",
      "Goodbye\n",
      "Goodbye\n",
      "Goodbye\n",
      "\n"
     ]
    }
   ],
   "source": [
    "def echo(call, repeats):\n",
    "    \"\"\"\n",
    "    Echo the string call to the console repeats number of time\n",
    "    Each echo should be on a separate line\n",
    "    \"\"\"\n",
    "    print((call+\"\\n\") * repeats)\n",
    "\n",
    "# Tests\n",
    "echo(\"Hello\", 5)\n",
    "echo(\"Goodbye\", 3)"
   ]
  },
  {
   "cell_type": "markdown",
   "metadata": {},
   "source": [
    ">in语句，判断string里是否存在指定内容\n",
    "\n",
    "code for substring test"
   ]
  },
  {
   "cell_type": "code",
   "execution_count": 15,
   "metadata": {},
   "outputs": [
    {
     "name": "stdout",
     "output_type": "stream",
     "text": [
      "True\n",
      "True\n",
      "False\n",
      "False\n",
      "True\n"
     ]
    }
   ],
   "source": [
    "def is_substring(example_string, test_string):\n",
    "    \"\"\"\n",
    "    Function that returns True if test_string\n",
    "    is a substring of example_string and False otherwise\n",
    "    \"\"\"\n",
    "    # enter one line of code for substring test here\n",
    "    return (test_string in example_string)\n",
    "    \n",
    "\n",
    "# Tests\n",
    "\n",
    "example_string = \"It's just a flesh wound.\"\n",
    "\n",
    "print(is_substring(example_string, \"just\"))\n",
    "print(is_substring(example_string, \"flesh wound\"))\n",
    "print(is_substring(example_string, \"piddog\"))\n",
    "print(is_substring(example_string, \"it's\"))\n",
    "print(is_substring(example_string, \"It's\"))"
   ]
  },
  {
   "cell_type": "markdown",
   "metadata": {},
   "source": [
    ">.format()方法\n",
    "\n",
    "把内容放到string模板里"
   ]
  },
  {
   "cell_type": "code",
   "execution_count": null,
   "metadata": {},
   "outputs": [],
   "source": [
    "def make_nametag(first_name, topic):\n",
    "    \"\"\"\n",
    "    Given two strings first_name and topic,\n",
    "    return a string of the form \"\"Hi! My name \n",
    "    is XXX. This lecture covers YYY.\" where\n",
    "    XXX and YYY are first_name and topic.\n",
    "    \"\"\"\n",
    "    \n",
    "    # enter code here\n",
    "    return(\"Hi! My name is {0}. This lecture covers {1}.\".format( first_name, topic))\n",
    "\n",
    "    \n",
    "# Tests\n",
    "\n",
    "print(make_nametag(\"Scott\", \"Python\"))\n",
    "print(make_nametag(\"Joe\", \"games\"))\n",
    "print(make_nametag(\"John\", \"programming tips\"))"
   ]
  },
  {
   "cell_type": "markdown",
   "metadata": {},
   "source": [
    ">.isdigit()方法\n",
    "\n",
    "判断string里是否仅有十进制数字\n",
    "\n",
    "可以用于把未知的string转换成int并不报错"
   ]
  },
  {
   "cell_type": "code",
   "execution_count": 22,
   "metadata": {},
   "outputs": [
    {
     "name": "stdout",
     "output_type": "stream",
     "text": [
      "-123\n"
     ]
    }
   ],
   "source": [
    "def make_int(int_string):\n",
    "    \"\"\"\n",
    "    Given the string int_string, return the associated integer if all \n",
    "    digits are decimal digits.  Other return -1.\n",
    "    \"\"\"\n",
    "    if int_string.isdigit():\n",
    "        return int(int_string)\n",
    "    else:\n",
    "        return -1\n",
    "\n",
    "    \n",
    "# Tests\n",
    "\n",
    "print(make_int(\"123\"))\n",
    "print(make_int(\"00123\"))\n",
    "print(make_int(\"1.23\"))\n",
    "print(make_int(\"-123\"))"
   ]
  },
  {
   "cell_type": "markdown",
   "metadata": {},
   "source": [
    ">.split()方法\n",
    "\n",
    "以（）里的东西为分隔符分割字符串"
   ]
  },
  {
   "cell_type": "code",
   "execution_count": 23,
   "metadata": {},
   "outputs": [
    {
     "name": "stdout",
     "output_type": "stream",
     "text": [
      "['hello', 'world']\n"
     ]
    }
   ],
   "source": [
    "text = \"hello world\"\n",
    "words = text.split()\n",
    "print(words)  # 输出: ['hello', 'world']"
   ]
  },
  {
   "cell_type": "code",
   "execution_count": 24,
   "metadata": {},
   "outputs": [
    {
     "name": "stdout",
     "output_type": "stream",
     "text": [
      "['apple', 'banana', 'cherry']\n"
     ]
    }
   ],
   "source": [
    "data = \"apple,banana,cherry\"\n",
    "fruits = data.split(',')\n",
    "print(fruits)  # 输出: ['apple', 'banana', 'cherry']"
   ]
  },
  {
   "cell_type": "code",
   "execution_count": null,
   "metadata": {},
   "outputs": [],
   "source": [
    "text = \"one:two:three:four\"\n",
    "words = text.split(':', 2)\n",
    "print(words)  # 输出: ['one', 'two', 'three:four']"
   ]
  },
  {
   "cell_type": "code",
   "execution_count": 25,
   "metadata": {},
   "outputs": [
    {
     "name": "stdout",
     "output_type": "stream",
     "text": [
      "Warren Joe\n",
      "Rixner Scott\n",
      "Greiner John\n"
     ]
    }
   ],
   "source": [
    "def name_swap(name_string):\n",
    "    \"\"\"\n",
    "    Given the string name string of the form \"first last\", return \n",
    "    the string \"Last First\" where both names are now capitalized\n",
    "    \"\"\"\n",
    "    \n",
    "    (first, last) = name_string.split(\" \")\n",
    "    return last.capitalize() + \" \" + first.capitalize()\n",
    "    \n",
    "# Tests\n",
    "\n",
    "print(name_swap(\"joe warren\"))\n",
    "print(name_swap(\"scott rixner\"))\n",
    "print(name_swap(\"john greiner\"))"
   ]
  },
  {
   "cell_type": "markdown",
   "metadata": {},
   "source": [
    "💡Unpacking in python | 解构赋值\n",
    "\n",
    "在 (first, last) = name_string.split(\" \") 中，使用了 Python 中的一种称为“解构赋值”（unpacking）的技术。让我来详细解释这个概念：\n",
    "\n",
    "`(first, last) 是什么？`\n",
    "\n",
    "(first, last) 是一个元组（tuple），它用于接收多个值。\n",
    "在这种情况下，first 和 last 是两个变量，它们用于存储从 name_string.split(\" \") 返回的两个元素。\n",
    "\n",
    "\n",
    "`name_string.split(\" \") 返回的是什么？`\n",
    "\n",
    "name_string.split(\" \") 返回的是一个列表（list）。\n",
    "由于 split 方法以空格 \" \" 为分隔符分割字符串，所以返回的列表包含了被空格分隔的所有子字符串。\n",
    "\n",
    "\n",
    "`为什么能直接赋值？`\n",
    "\n",
    "当你执行 (first, last) = name_string.split(\" \") 时，Python 会自动将 split 方法返回的列表中的元素分配给左侧的元组中的相应变量。\n",
    "这里，split 返回的列表的第一个元素（即名字的第一部分）被赋给了 first 变量，第二个元素（即名字的第二部分）被赋给了 last 变量。\n",
    "\n",
    "\n",
    "这种赋值方式要求左侧的变量数量与右侧的列表元素数量相匹配。如果数量不匹配，Python 会抛出一个错误。"
   ]
  }
 ],
 "metadata": {
  "kernelspec": {
   "display_name": "Python 3",
   "language": "python",
   "name": "python3"
  },
  "language_info": {
   "codemirror_mode": {
    "name": "ipython",
    "version": 3
   },
   "file_extension": ".py",
   "mimetype": "text/x-python",
   "name": "python",
   "nbconvert_exporter": "python",
   "pygments_lexer": "ipython3",
   "version": "3.10.11"
  }
 },
 "nbformat": 4,
 "nbformat_minor": 2
}
