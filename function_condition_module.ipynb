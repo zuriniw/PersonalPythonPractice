{
  "cells": [
    {
      "cell_type": "markdown",
      "metadata": {
        "id": "bJukrVEZuPNn"
      },
      "source": [
        "# ⭐Function\n"
      ]
    },
    {
      "cell_type": "code",
      "execution_count": null,
      "metadata": {
        "colab": {
          "base_uri": "https://localhost:8080/"
        },
        "id": "OjoBdBTQu94_",
        "outputId": "6f3fed8c-068a-4c19-8c8e-5383bb30f71a"
      },
      "outputs": [
        {
          "name": "stdout",
          "output_type": "stream",
          "text": [
            "13 miles equals 68640 feet.\n",
            "57 miles equals 300960 feet.\n",
            "82.67 miles equals 436497.60000000003 feet.\n"
          ]
        }
      ],
      "source": [
        "def miles_to_feet (miles):\n",
        "    \"\"\"\n",
        "    Given a float miles, return a float miles_to_feet\n",
        "    \"\"\"\n",
        "    feet = 5280 * miles\n",
        "    return feet\n",
        "\n",
        "miles = 13\n",
        "print(str(miles) + \" miles equals \" + str(miles_to_feet(miles)) + \" feet.\")\n",
        "\n",
        "miles = 57\n",
        "print(str(miles) + \" miles equals \" + str(miles_to_feet(miles)) + \" feet.\")\n",
        "\n",
        "miles = 82.67\n",
        "print(str(miles) + \" miles equals \" + str(miles_to_feet(miles)) + \" feet.\")"
      ]
    },
    {
      "cell_type": "code",
      "execution_count": null,
      "metadata": {
        "colab": {
          "base_uri": "https://localhost:8080/"
        },
        "id": "4qhyTbJ9N1LN",
        "outputId": "99c19d69-d1e9-4529-a798-b0c3ad10da63"
      },
      "outputs": [
        {
          "name": "stdout",
          "output_type": "stream",
          "text": [
            "7 hours, 21 minutes, and 37 seconds totals to 26497 seconds.\n",
            "10 hours, 1 minutes, and 7 seconds totals to 36067 seconds.\n",
            "1 hours, 0 minutes, and 1 seconds totals to 3601 seconds.\n"
          ]
        }
      ],
      "source": [
        "# Student should enter function on the next lines.\n",
        "\n",
        "def total_seconds (hours, minutes, seconds):\n",
        "    \"\"\"\n",
        "    given 3 float hours, minutes, and seconds, return 1 float ts\n",
        "    \"\"\"\n",
        "    ts = hours * 60 * 60 + minutes * 60 + seconds\n",
        "\n",
        "    return ts\n",
        "\n",
        "\n",
        "###################################################\n",
        "# Tests\n",
        "# Student should not change this code.\n",
        "\n",
        "hours, minutes, seconds = 7, 21, 37\n",
        "print(str(hours) + \" hours, \" + str(minutes) + \" minutes, and \" +\n",
        "      str(seconds) + \" seconds totals to \" + str(total_seconds(hours, minutes, seconds)) +\n",
        "      \" seconds.\")\n",
        "\n",
        "hours, minutes, seconds = 10, 1, 7\n",
        "print(str(hours) + \" hours, \" + str(minutes) + \" minutes, and \" +\n",
        "      str(seconds) + \" seconds totals to \" + str(total_seconds(hours, minutes, seconds)) +\n",
        "      \" seconds.\")\n",
        "\n",
        "hours, minutes, seconds = 1, 0, 1\n",
        "print(str(hours) + \" hours, \" + str(minutes) + \" minutes, and \" +\n",
        "      str(seconds) + \" seconds totals to \" + str(total_seconds(hours, minutes, seconds)) +\n",
        "      \" seconds.\")"
      ]
    },
    {
      "cell_type": "code",
      "execution_count": null,
      "metadata": {
        "colab": {
          "base_uri": "https://localhost:8080/"
        },
        "id": "78pKPEeqb82X",
        "outputId": "f12e4744-4395-4a97-9b3b-123d1c453cae"
      },
      "outputs": [
        {
          "name": "stdout",
          "output_type": "stream",
          "text": [
            "A rectangle 4 inches wide and 7 inches high has a perimeter of 22 inches.\n",
            "A rectangle 7 inches wide and 4 inches high has a perimeter of 22 inches.\n",
            "A rectangle 10 inches wide and 10 inches high has a perimeter of 40 inches.\n"
          ]
        }
      ],
      "source": [
        "# Student should enter function on the next lines.\n",
        "\n",
        "def rectangle_perimeter(width, height):\n",
        "    \"\"\"\n",
        "    given 2 float width and height, return p\n",
        "    \"\"\"\n",
        "    p = 2 * (width + height)\n",
        "    return p\n",
        "\n",
        "\n",
        "###################################################\n",
        "# Tests\n",
        "# Student should not change this code.\n",
        "\n",
        "\n",
        "width, height = 4, 7\n",
        "print(\"A rectangle \" + str(width) + \" inches wide and \" + str(height) +\n",
        "      \" inches high has a perimeter of \" + str(rectangle_perimeter(width, height)) + \" inches.\")\n",
        "\n",
        "width, height = 7, 4\n",
        "print(\"A rectangle \" + str(width) + \" inches wide and \" + str(height) +\n",
        "      \" inches high has a perimeter of \" + str(rectangle_perimeter(width, height)) + \" inches.\")\n",
        "\n",
        "width, height = 10, 10\n",
        "print(\"A rectangle \" + str(width) + \" inches wide and \" + str(height) +\n",
        "      \" inches high has a perimeter of \" + str(rectangle_perimeter(width, height)) + \" inches.\")"
      ]
    },
    {
      "cell_type": "code",
      "execution_count": null,
      "metadata": {
        "colab": {
          "base_uri": "https://localhost:8080/"
        },
        "id": "rVqaeGu3c-uh",
        "outputId": "7fd55c50-fda4-44b4-92fb-1953262eece5"
      },
      "outputs": [
        {
          "name": "stdout",
          "output_type": "stream",
          "text": [
            "A rectangle 4 inches wide and 7 inches high has an area of 28 square inches.\n",
            "A rectangle 7 inches wide and 4 inches high has an area of 28 square inches.\n",
            "A rectangle 10 inches wide and 10 inches high has an area of 100 square inches.\n"
          ]
        }
      ],
      "source": [
        "# Student should enter function on the next lines.\n",
        "\n",
        "def rectangle_area(width, height):\n",
        "    \"\"\"\n",
        "    given 2 float width and height, return 1 float A\n",
        "    \"\"\"\n",
        "    A = width * height\n",
        "    return A\n",
        "\n",
        "\n",
        "###################################################\n",
        "# Tests\n",
        "# Student should not change this code.\n",
        "\n",
        "width, height = 4, 7\n",
        "print(\"A rectangle \" + str(width) + \" inches wide and \" + str(height) +\n",
        "      \" inches high has an area of \" + str(rectangle_area(width, height)) + \" square inches.\")\n",
        "\n",
        "width, height = 7, 4\n",
        "print(\"A rectangle \" + str(width) + \" inches wide and \" + str(height) +\n",
        "      \" inches high has an area of \" + str(rectangle_area(width, height)) + \" square inches.\")\n",
        "\n",
        "width, height = 10, 10\n",
        "print(\"A rectangle \" + str(width) + \" inches wide and \" + str(height) +\n",
        "      \" inches high has an area of \" + str(rectangle_area(width, height)) + \" square inches.\")"
      ]
    },
    {
      "cell_type": "code",
      "execution_count": null,
      "metadata": {
        "colab": {
          "base_uri": "https://localhost:8080/"
        },
        "id": "wqggCHIadWYr",
        "outputId": "08c0533a-5612-4f86-ff96-6f8e0d028751"
      },
      "outputs": [
        {
          "name": "stdout",
          "output_type": "stream",
          "text": [
            "A circle with a radius of 8 inches has a circumference of 50.26548245743669 inches.\n",
            "A circle with a radius of 3 inches has a circumference of 18.84955592153876 inches.\n",
            "A circle with a radius of 12.9 inches has a circumference of 81.05309046261667 inches.\n"
          ]
        }
      ],
      "source": [
        "import math\n",
        "PI = math.pi\n",
        "\n",
        "###################################################\n",
        "# Circle circumference formula\n",
        "# Student should enter function on the next lines.\n",
        "\n",
        "\n",
        "def circle_circumference(radius):\n",
        "    \"\"\"\n",
        "    given 1 float radius, return 1 float C\n",
        "    \"\"\"\n",
        "    C = 2 * PI * radius\n",
        "\n",
        "    return C\n",
        "\n",
        "###################################################\n",
        "# Tests\n",
        "# Student should not change this code.\n",
        "\n",
        "radius = 8\n",
        "print(\"A circle with a radius of \" + str(radius) +\n",
        "      \" inches has a circumference of \" + str(circle_circumference(radius)) + \" inches.\")\n",
        "\n",
        "radius = 3\n",
        "print(\"A circle with a radius of \" + str(radius) +\n",
        "      \" inches has a circumference of \" + str(circle_circumference(radius)) + \" inches.\")\n",
        "\n",
        "radius = 12.9\n",
        "print(\"A circle with a radius of \" + str(radius) +\n",
        "      \" inches has a circumference of \" + str(circle_circumference(radius)) + \" inches.\")\n"
      ]
    },
    {
      "cell_type": "code",
      "execution_count": null,
      "metadata": {
        "colab": {
          "base_uri": "https://localhost:8080/"
        },
        "id": "SOAC7tKTeQ_S",
        "outputId": "e926591b-7d8a-4e8b-cdf4-a4389d56333d"
      },
      "outputs": [
        {
          "name": "stdout",
          "output_type": "stream",
          "text": [
            "The future value of $1000 in 10 years at an annual rate of 7% is $1967.1513572895665.\n",
            "The future value of $200 in 5 years at an annual rate of 4% is $243.33058048000004.\n",
            "The future value of $1000 in 20 years at an annual rate of 3% is $1806.111234669415.\n"
          ]
        }
      ],
      "source": [
        "# Student should enter function on the next lines.\n",
        "\n",
        "def future_value(present_value, annual_rate, years):\n",
        "    \"\"\"\n",
        "    given 3 float, return 1 float\n",
        "    \"\"\"\n",
        "    v = present_value * ((1 + 0.01 * annual_rate) ** years)\n",
        "\n",
        "    return v\n",
        "\n",
        "\n",
        "###################################################\n",
        "# Tests\n",
        "# Student should not change this code.\n",
        "\n",
        "\n",
        "present_value, annual_rate, years = 1000, 7, 10\n",
        "print(\"The future value of $\" + str(present_value) + \" in \" + str(years) +\n",
        "      \" years at an annual rate of \" + str(annual_rate) + \"% is $\" +\n",
        "      str(future_value(present_value, annual_rate, years)) + \".\")\n",
        "\n",
        "present_value, annual_rate, years = 200, 4, 5\n",
        "print(\"The future value of $\" + str(present_value) + \" in \" + str(years) +\n",
        "      \" years at an annual rate of \" + str(annual_rate) + \"% is $\" +\n",
        "      str(future_value(present_value, annual_rate, years)) + \".\")\n",
        "\n",
        "present_value, annual_rate, years = 1000, 3, 20\n",
        "print(\"The future value of $\" + str(present_value) + \" in \" + str(years) +\n",
        "      \" years at an annual rate of \" + str(annual_rate) + \"% is $\" +\n",
        "      str(future_value(present_value, annual_rate, years)) + \".\")"
      ]
    },
    {
      "cell_type": "code",
      "execution_count": null,
      "metadata": {
        "colab": {
          "base_uri": "https://localhost:8080/"
        },
        "id": "5Y-80a0ZfZIE",
        "outputId": "7ca51de3-73fd-4e9a-d85f-024e13ac7f9e"
      },
      "outputs": [
        {
          "name": "stdout",
          "output_type": "stream",
          "text": [
            "My name is Joe Warren.\n",
            "My name is Scott Rixner.\n",
            "My name is John Greiner.\n"
          ]
        }
      ],
      "source": [
        "# Student should enter function on the next lines.\n",
        "\n",
        "def name_tag(first_name, last_name):\n",
        "    \"\"\"\n",
        "\n",
        "    \"\"\"\n",
        "    name = \"My name is \" + first_name +  \" \" + last_name + \".\"\n",
        "\n",
        "    return name\n",
        "\n",
        "###################################################\n",
        "# Tests\n",
        "# Student should not change this code.\n",
        "\n",
        "\n",
        "first_name, last_name = \"Joe\", \"Warren\"\n",
        "print(name_tag(first_name, last_name))\n",
        "\n",
        "first_name, last_name = \"Scott\", \"Rixner\"\n",
        "print(name_tag(first_name, last_name))\n",
        "\n",
        "first_name, last_name = \"John\", \"Greiner\"\n",
        "print(name_tag(first_name, last_name))"
      ]
    },
    {
      "cell_type": "code",
      "execution_count": null,
      "metadata": {
        "colab": {
          "base_uri": "https://localhost:8080/"
        },
        "id": "_DuTuJN-gd3Z",
        "outputId": "2c09e8ed-73cf-4692-8d52-3022b97858c1"
      },
      "outputs": [
        {
          "name": "stdout",
          "output_type": "stream",
          "text": [
            "Joe Warren is 56 years old.\n",
            "Scott Rixner is 40 years old.\n",
            "John Greiner is 46 years old.\n"
          ]
        }
      ],
      "source": [
        "def name_and_age(name, age):\n",
        "    \"\"\"\n",
        "    given a string name and an integer age, return a string info\n",
        "    \"\"\"\n",
        "    info = name + \" is \" + str (age) + \" years old.\"\n",
        "    return info\n",
        "\n",
        "###################################################\n",
        "# Tests\n",
        "# Student should not change this code.\n",
        "\n",
        "\n",
        "name, age = \"Joe Warren\", 56\n",
        "print(name_and_age(name, age))\n",
        "\n",
        "name, age = \"Scott Rixner\", 40\n",
        "print(name_and_age(name, age))\n",
        "\n",
        "name, age = \"John Greiner\", 46\n",
        "print(name_and_age(name, age))\n"
      ]
    },
    {
      "cell_type": "code",
      "execution_count": null,
      "metadata": {
        "colab": {
          "base_uri": "https://localhost:8080/"
        },
        "id": "zUCD7HNkhXVM",
        "outputId": "fe1e24cb-2d24-4e40-d092-a52b83f4f861"
      },
      "outputs": [
        {
          "name": "stdout",
          "output_type": "stream",
          "text": [
            "The distance from (2, 2) to (5, 6) is 5.0.\n",
            "The distance from (1, 1) to (2, 2) is 1.4142135623730951.\n",
            "The distance from (0, 0) to (3, 4) is 5.0.\n"
          ]
        }
      ],
      "source": [
        "def point_distance(x_0, y_0, x_1, y_1):\n",
        "    \"\"\"\n",
        "    given 6 float of 2 points' coord, return a float of the point distance\n",
        "    \"\"\"\n",
        "    d = ((x_0 - x_1) ** 2 + (y_0 - y_1) ** 2) ** 0.5\n",
        "    return d\n",
        "\n",
        "\n",
        "# Hint: You need to use the power operation ** .\n",
        "\n",
        "\n",
        "###################################################\n",
        "# Tests\n",
        "# Student should not change this code.\n",
        "\n",
        "\n",
        "x_0, y_0, x_1, y_1 = 2, 2, 5, 6\n",
        "print(\"The distance from (\" + str(x_0) + \", \" + str(y_0) + \") to (\" +\n",
        "      str(x_1) + \", \" + str(y_1) + \") is \" + str(point_distance(x_0, y_0, x_1, y_1)) + \".\")\n",
        "\n",
        "x_0, y_0, x_1, y_1 = 1, 1, 2, 2\n",
        "print(\"The distance from (\" + str(x_0) + \", \" + str(y_0) + \") to (\" +\n",
        "      str(x_1) + \", \" + str(y_1) + \") is \" + str(point_distance(x_0, y_0, x_1, y_1)) + \".\")\n",
        "\n",
        "x_0, y_0, x_1, y_1 = 0, 0, 3, 4\n",
        "print(\"The distance from (\" + str(x_0) + \", \" + str(y_0) + \") to (\" +\n",
        "      str(x_1) + \", \" + str(y_1) + \") is \" + str(point_distance(x_0, y_0, x_1, y_1)) + \".\")"
      ]
    },
    {
      "cell_type": "code",
      "execution_count": null,
      "metadata": {
        "colab": {
          "base_uri": "https://localhost:8080/"
        },
        "id": "Bup7HF4Ajk3l",
        "outputId": "012fa931-c85e-4fa7-e8bd-746d2360e0bf"
      },
      "outputs": [
        {
          "name": "stdout",
          "output_type": "stream",
          "text": [
            "A triangle with vertices (0, 0), (3,4), and (1, 1) has an area of 0.4999999999999962.\n",
            "A triangle with vertices (-2, 4), (1,6), and (2, 1) has an area of 8.5.\n",
            "A triangle with vertices (10, 0), (0,0), and (0, 10) has an area of 50.0.\n"
          ]
        }
      ],
      "source": [
        "# Triangle area (Heron's) formula\n",
        "# Student should enter function on the next lines.\n",
        "# Hint:  Use point_distance as a helper function.\n",
        "\n",
        "def triangle_area(x_0, y_0, x_1, y_1, x_2, y_2):\n",
        "\n",
        "    a = ((x_0 - x_1) ** 2 + (y_0 - y_1) ** 2) ** 0.5\n",
        "    b = ((x_0 - x_2) ** 2 + (y_0 - y_2) ** 2) ** 0.5\n",
        "    c = ((x_2 - x_1) ** 2 + (y_2 - y_1) ** 2) ** 0.5\n",
        "    A = 0.25 * ((a + b + c) * (-a + b + c) * (a - b + c) * (a + b - c)) ** 0.5\n",
        "\n",
        "    return A\n",
        "# Hint: You need to use the power operation ** .\n",
        "\n",
        "\n",
        "\n",
        "###################################################\n",
        "# Tests\n",
        "# Student should not change this code.\n",
        "\n",
        "def test(x_0, y_0, x_1, y_1, x_2, y_2):\n",
        "    \"\"\"Tests the triangle_area function.\"\"\"\n",
        "\n",
        "    print(\"A triangle with vertices (\" + str(x_0) + \",\" + str(y_0) + \"),\")\n",
        "    print(\"(\" + str(x_1) + \",\" + str(y_1) + \"), and\")\n",
        "    print(\"(\" + str(x_2) + \",\" + str(y_2) + \") has an area of\")\n",
        "    print(str(triangle_area(x_0, y_0, x_1, y_1, x_2, y_2)) + \".\")\n",
        "\n",
        "x_0, y_0, x_1, y_1, x_2, y_2 = 0, 0, 3, 4, 1, 1\n",
        "print(\"A triangle with vertices (\" + str(x_0) + \", \" + str(y_0) + \"), (\" +\n",
        "      str(x_1) + \",\" + str(y_1) + \"), and (\" + str(x_2) + \", \" + str(y_2) +\n",
        "      \") has an area of \" + str(triangle_area(x_0, y_0, x_1, y_1, x_2, y_2)) + \".\")\n",
        "\n",
        "x_0, y_0, x_1, y_1, x_2, y_2 = -2, 4, 1, 6, 2, 1\n",
        "print(\"A triangle with vertices (\" + str(x_0) + \", \" + str(y_0) + \"), (\" +\n",
        "      str(x_1) + \",\" + str(y_1) + \"), and (\" + str(x_2) + \", \" + str(y_2) +\n",
        "      \") has an area of \" + str(triangle_area(x_0, y_0, x_1, y_1, x_2, y_2)) + \".\")\n",
        "\n",
        "x_0, y_0, x_1, y_1, x_2, y_2 = 10, 0, 0, 0, 0, 10\n",
        "print(\"A triangle with vertices (\" + str(x_0) + \", \" + str(y_0) + \"), (\" +\n",
        "      str(x_1) + \",\" + str(y_1) + \"), and (\" + str(x_2) + \", \" + str(y_2) +\n",
        "      \") has an area of \" + str(triangle_area(x_0, y_0, x_1, y_1, x_2, y_2)) + \".\")"
      ]
    },
    {
      "cell_type": "code",
      "execution_count": null,
      "metadata": {
        "id": "GCEWNY86LoIV"
      },
      "outputs": [],
      "source": []
    },
    {
      "cell_type": "code",
      "execution_count": null,
      "metadata": {
        "colab": {
          "base_uri": "https://localhost:8080/"
        },
        "id": "ksk9Uu4uLpQh",
        "outputId": "b0aba94b-e03c-4cb9-ad29-a174210641e3"
      },
      "outputs": [
        {
          "name": "stdout",
          "output_type": "stream",
          "text": [
            "10.825317547305483\n"
          ]
        }
      ],
      "source": [
        "def triangle_area(a,b,c):\n",
        "\n",
        "    A = 0.25 * ((a + b + c) * (-a + b + c) * (a - b + c) * (a + b - c)) ** 0.5\n",
        "\n",
        "    return A\n",
        "\n",
        "print (triangle_area(5,5,5))"
      ]
    },
    {
      "cell_type": "code",
      "execution_count": null,
      "metadata": {
        "id": "ArmFiK6Ut8tG"
      },
      "outputs": [],
      "source": []
    },
    {
      "cell_type": "code",
      "execution_count": null,
      "metadata": {
        "colab": {
          "base_uri": "https://localhost:8080/"
        },
        "id": "y5Kjncfzmee0",
        "outputId": "67dc5a9c-de0b-4039-d2d3-a2965b0c1f15"
      },
      "outputs": [
        {
          "name": "stdout",
          "output_type": "stream",
          "text": [
            "The tens digit is 4 the ones digit is 2.\n",
            "The tens digit is 9 the ones digit is 9.\n",
            "The tens digit is 0 the ones digit is 5.\n"
          ]
        }
      ],
      "source": [
        "# Digits function\n",
        "# Student should enter function on the next lines.\n",
        "\n",
        "\n",
        "def print_digits(x):\n",
        "    tens_digit = x // 10\n",
        "    #//即为整除\n",
        "    ones_digit = x - tens_digit * 10\n",
        "    text = \"The tens digit is \" + str(tens_digit) + \" the ones digit is \" + str(ones_digit) + \".\"\n",
        "    print(text)\n",
        "\n",
        "###################################################\n",
        "# Tests\n",
        "# Student should not change this code.\n",
        "\n",
        "print_digits(42)\n",
        "print_digits(99)\n",
        "print_digits(5)"
      ]
    },
    {
      "cell_type": "code",
      "execution_count": null,
      "metadata": {
        "colab": {
          "base_uri": "https://localhost:8080/"
        },
        "id": "_Z6pFQKZ0RYb",
        "outputId": "b7f51b4c-6e78-4bc7-a1a1-40b798d2f32f"
      },
      "outputs": [
        {
          "name": "stdout",
          "output_type": "stream",
          "text": [
            "Today's numbers are 19, 27, 34, 53, and  8. The Powerball number is 23.\n",
            "Today's numbers are 30, 25, 16, 11, and  38. The Powerball number is 12.\n",
            "Today's numbers are 54, 33, 59, 6, and  43. The Powerball number is 14.\n"
          ]
        }
      ],
      "source": [
        "import random\n",
        "# Powerball function\n",
        "# Student should enter function on the next lines.\n",
        "\n",
        "def powerball():\n",
        "    \"\"\"\n",
        "    output random powerball info\n",
        "    \"\"\"\n",
        "    a,b,c,d,e = random.randrange(1,60),random.randrange(1,60),random.randrange(1,60),random.randrange(1,60),random.randrange(1,60)\n",
        "    r = random.randrange(1,36)\n",
        "    text = \"Today's numbers are \" + str(a) + \", \" + str(b) + \", \" + str(c) + \", \" + str(d) + \", and  \" + str(e) + \". The Powerball number is \" + str(r) + \".\"\n",
        "    print(text)\n",
        "\n",
        "random_number = random.randrange(10)\n",
        "\n",
        "\n",
        "###################################################\n",
        "# Tests\n",
        "# Student should not change this code.\n",
        "\n",
        "powerball()\n",
        "powerball()\n",
        "powerball()"
      ]
    },
    {
      "cell_type": "markdown",
      "metadata": {
        "id": "3T1XGRZM011F"
      },
      "source": []
    },
    {
      "cell_type": "code",
      "execution_count": null,
      "metadata": {
        "colab": {
          "base_uri": "https://localhost:8080/"
        },
        "id": "mi7PnGP001ku",
        "outputId": "d5b1ea55-25b3-46cc-dcf5-7283721de6f1"
      },
      "outputs": [
        {
          "name": "stdout",
          "output_type": "stream",
          "text": [
            "1.0988845115895123 3.846095790563293\n"
          ]
        }
      ],
      "source": [
        "def project_to_distance(point_x, point_y, distance):\n",
        "    dist_to_origin = (point_x ** 2 + point_y ** 2) ** 0.5\n",
        "    scale = distance / dist_to_origin\n",
        "    print(point_x * scale , point_y * scale)\n",
        "\n",
        "project_to_distance(2, 7, 4)"
      ]
    },
    {
      "cell_type": "code",
      "execution_count": null,
      "metadata": {
        "colab": {
          "base_uri": "https://localhost:8080/"
        },
        "id": "YcqV5nv-IST3",
        "outputId": "05adcb31-3c27-41dc-9473-1b0fe5c69f92"
      },
      "outputs": [
        {
          "name": "stdout",
          "output_type": "stream",
          "text": [
            "Hello world\n",
            "Is it over yet?\n"
          ]
        }
      ],
      "source": [
        "def do_stuff():\n",
        "    \"\"\"\n",
        "    Example of print vs. return\n",
        "    \"\"\"\n",
        "    print(\"Hello world\")\n",
        "    return \"Is it over yet?\"\n",
        "    print(\"Goodbye cruel world!\")\n",
        "\n",
        "print(do_stuff())"
      ]
    },
    {
      "cell_type": "code",
      "execution_count": null,
      "metadata": {
        "colab": {
          "base_uri": "https://localhost:8080/"
        },
        "id": "RbwD2MBoKLt1",
        "outputId": "f87dc8a6-e5dc-4415-9ba7-fe79df485b16"
      },
      "outputs": [
        {
          "name": "stdout",
          "output_type": "stream",
          "text": [
            "$1000 at 2% compounded daily for 4 years yields $ 745.3174428239327\n",
            "$1000 at 2% compounded daily for 4 years yields $ 1083.2846934365864\n"
          ]
        }
      ],
      "source": [
        "def future_value(present_value, annual_rate, periods_per_year, years):\n",
        "    \"\"\"\n",
        "    Input: the numbers present_value, annual_rate, periods_per_year, years\n",
        "    Output: future value based on formula given in question\n",
        "    \"\"\"\n",
        "    rate_per_period = annual_rate / periods_per_year\n",
        "    periods = periods_per_year * years\n",
        "\n",
        "    v = present_value * (1 +rate_per_period) ** periods\n",
        "\n",
        "    return v\n",
        "\n",
        "    # Put your code here.\n",
        "\n",
        "print(\"$1000 at 2% compounded daily for 4 years yields $\", future_value(500, .04, 10, 10))\n",
        "print(\"$1000 at 2% compounded daily for 4 years yields $\", future_value(1000, .02, 365, 4))"
      ]
    },
    {
      "cell_type": "markdown",
      "metadata": {
        "id": "X-aPlndeuC0H"
      },
      "source": [
        "# ⭐Condition"
      ]
    },
    {
      "cell_type": "code",
      "execution_count": null,
      "metadata": {
        "colab": {
          "base_uri": "https://localhost:8080/"
        },
        "id": "OvUD0yELuAC1",
        "outputId": "5bf285cb-7fdc-4301-f8f4-9f10d9c01ee6"
      },
      "outputs": [
        {
          "name": "stdout",
          "output_type": "stream",
          "text": [
            "8 is even.\n",
            "3 is odd.\n",
            "12 is even.\n"
          ]
        }
      ],
      "source": [
        "\"\"\"\n",
        "Template - Compute whether an integer is even.\n",
        "\"\"\"\n",
        "\n",
        "###################################################\n",
        "# Is even formula\n",
        "# Student should enter function on the next lines.\n",
        "\n",
        "def is_even(number):\n",
        "    \"\"\"\n",
        "    Given a integer number, return a bool to classify the number as even or odd\n",
        "    \"\"\"\n",
        "\n",
        "    if number % 2 == 0:\n",
        "        result = True\n",
        "    else:\n",
        "        result = False\n",
        "\n",
        "    return result\n",
        "\n",
        "\n",
        "###################################################\n",
        "# Tests\n",
        "# Student should not change this code.\n",
        "\n",
        "number = 8\n",
        "if is_even(number):\n",
        "    print(number, \"is even.\")\n",
        "else:\n",
        "    print(number, \"is odd.\")\n",
        "\n",
        "number = 3\n",
        "if is_even(number):\n",
        "    print(number, \"is even.\")\n",
        "else:\n",
        "    print(number, \"is odd.\")\n",
        "\n",
        "number = 12\n",
        "if is_even(number):\n",
        "    print(number, \"is even.\")\n",
        "else:\n",
        "    print(number, \"is odd.\")\n",
        "\n",
        "###################################################\n",
        "# Expected output\n",
        "# Student should look at the following comments and compare to printed output.\n",
        "\n",
        "#8 is even.\n",
        "#3 is odd.\n",
        "#12 is even.\n"
      ]
    },
    {
      "cell_type": "code",
      "execution_count": null,
      "metadata": {
        "id": "ATB6ye27yHIS"
      },
      "outputs": [],
      "source": [
        "\"\"\"\n",
        "Template - Compute whether a person is cool.\n",
        "\"\"\"\n",
        "\n",
        "###################################################\n",
        "# Is cool formula\n",
        "# Student should enter function on the next lines.\n",
        "\n",
        "def is_cool(name):\n",
        "    \"\"\"\n",
        "    Given a string name, returns a bool to reflect if it meets the requirments\n",
        "    \"\"\"\n",
        "    if name == \"Joe\" or name == \"John\" or name == \"Stephen\":\n",
        "        return True\n",
        "    else:\n",
        "        return False\n",
        "\n",
        "\n",
        "###################################################\n",
        "# Tests\n",
        "# Student should not change this code.\n",
        "\n",
        "name = \"Joe\"\n",
        "if is_cool(name):\n",
        "    print(name, \"is cool.\")\n",
        "else:\n",
        "    print(name, \"is not cool.\")\n",
        "\n",
        "name = \"John\"\n",
        "if is_cool(name):\n",
        "    print(name, \"is cool.\")\n",
        "else:\n",
        "    print(name, \"is not cool.\")\n",
        "\n",
        "name = \"Stephen\"\n",
        "if is_cool(name):\n",
        "    print(name, \"is cool.\")\n",
        "else:\n",
        "    print(name, \"is not cool.\")\n",
        "\n",
        "name = \"Scott\"\n",
        "if is_cool(name):\n",
        "    print(name, \"is cool.\")\n",
        "else:\n",
        "    print(name, \"is not cool.\")\n",
        "\n",
        "###################################################\n",
        "# Expected output\n",
        "# Student should look at the following comments and compare to printed output.\n",
        "\n",
        "#Joe is cool.\n",
        "#John is cool.\n",
        "#Stephen is cool.\n",
        "#Scott is not cool.\n"
      ]
    },
    {
      "cell_type": "code",
      "execution_count": null,
      "metadata": {
        "id": "LBoZLiSX1B-x"
      },
      "outputs": [],
      "source": [
        "\"\"\"\n",
        "Template - Compute whether the given time is lunchtime.\n",
        "\"\"\"\n",
        "\n",
        "###################################################\n",
        "# Is lunchtime formula\n",
        "# Student should enter function on the next lines.\n",
        "\n",
        "def is_lunchtime(hour, is_am):\n",
        "    \"\"\"\n",
        "\n",
        "    \"\"\"\n",
        "    if ((hour == 11) and (is_am == True)) == True or ((hour == 12) and (is_am == False)) == True:\n",
        "        return True\n",
        "    else:\n",
        "        return False\n",
        "\n",
        "\n",
        "###################################################\n",
        "# Tests\n",
        "# Student should not change this code.\n",
        "\n",
        "def is_lunchtime_test(hour, is_am):\n",
        "    \"\"\"Tests the is_lunchtime function.\"\"\"\n",
        "    print(hour, end = \"\")\n",
        "    if is_am:\n",
        "        print(\"AM\", end = \"\")\n",
        "    else:\n",
        "        print(\"PM\", end = \"\")\n",
        "    if is_lunchtime(hour, is_am):\n",
        "        print(\" is lunchtime.\")\n",
        "    else:\n",
        "        print(\" is not lunchtime.\")\n",
        "\n",
        "is_lunchtime_test(11, True)\n",
        "is_lunchtime_test(12, True)\n",
        "is_lunchtime_test(11, False)\n",
        "is_lunchtime_test(12, False)\n",
        "is_lunchtime_test(10, False)\n",
        "\n",
        "###################################################\n",
        "# Expected output\n",
        "# Student should look at the following comments and compare to printed output.\n",
        "\n",
        "#11 AM is lunchtime.\n",
        "#12 AM is not lunchtime.\n",
        "#11 PM is not lunchtime.\n",
        "#12 PM is lunchtime.\n",
        "#10 PM is not lunchtime.\n"
      ]
    },
    {
      "cell_type": "code",
      "execution_count": null,
      "metadata": {
        "colab": {
          "base_uri": "https://localhost:8080/"
        },
        "id": "5K7MJFIXyHCM",
        "outputId": "55d454d8-4057-48f6-95e6-5630bba2ecdc"
      },
      "outputs": [
        {
          "name": "stdout",
          "output_type": "stream",
          "text": [
            "2000 is a leap year.\n",
            "1996 is a leap year.\n",
            "1800 is not a leap year.\n",
            "2013 is not a leap year.\n"
          ]
        }
      ],
      "source": [
        "\"\"\"\n",
        "Template - Compute whether the given year is a leap year.\n",
        "\"\"\"\n",
        "\n",
        "###################################################\n",
        "# Is leapyear formula\n",
        "# Student should enter function on the next lines.\n",
        "\n",
        "def is_leap_year(year):\n",
        "    \"\"\"\n",
        "    Given an integer year, return a bool to classify whether it is a leap year in Gregorian calendar\n",
        "    \"\"\"\n",
        "    if year % 400 == 0:\n",
        "        #1600\n",
        "        return True\n",
        "    elif year % 100 == 0:\n",
        "        #1700,1800\n",
        "        return False\n",
        "    elif year % 4 == 0:\n",
        "        #2008\n",
        "        return True\n",
        "    else:\n",
        "        #1997\n",
        "        return False\n",
        "\n",
        "\n",
        "###################################################\n",
        "# Tests\n",
        "# Student should not change this code.\n",
        "\n",
        "year = 2000\n",
        "if is_leap_year(year):\n",
        "    print(year, \"is a leap year.\")\n",
        "else:\n",
        "    print(year, \"is not a leap year.\")\n",
        "\n",
        "year = 1996\n",
        "if is_leap_year(year):\n",
        "    print(year, \"is a leap year.\")\n",
        "else:\n",
        "    print(year, \"is not a leap year.\")\n",
        "\n",
        "year = 1800\n",
        "if is_leap_year(year):\n",
        "    print(year, \"is a leap year.\")\n",
        "else:\n",
        "    print(year, \"is not a leap year.\")\n",
        "\n",
        "year = 2013\n",
        "if is_leap_year(year):\n",
        "    print(year, \"is a leap year.\")\n",
        "else:\n",
        "    print(year, \"is not a leap year.\")\n",
        "\n",
        "###################################################\n",
        "# Expected output\n",
        "# Student should look at the following comments and compare to printed output.\n",
        "\n",
        "#2000 is a leap year.\n",
        "#1996 is a leap year.\n",
        "#1800 is not a leap year.\n",
        "#2013 is not a leap year.\n"
      ]
    },
    {
      "cell_type": "markdown",
      "metadata": {
        "id": "13X07bpW6FiK"
      },
      "source": [
        "### This is a smart solution!"
      ]
    },
    {
      "cell_type": "code",
      "execution_count": null,
      "metadata": {
        "id": "XGIigN206Dxq"
      },
      "outputs": [],
      "source": [
        "\"\"\"\n",
        "Template - Compute whether two intervals intersect.\n",
        "\"\"\"\n",
        "\n",
        "###################################################\n",
        "# Interval intersection formula\n",
        "# Student should enter function on the next lines.\n",
        "\n",
        "def interval_intersect(int1_lower, int1_upper, int2_lower, int2_upper):\n",
        "    \"\"\"\n",
        "    Given 4 float of 2 range, return a bool that define whether they have intersection\n",
        "    \"\"\"\n",
        "    if (int1_upper < int2_lower) or (int2_upper < int1_lower):\n",
        "        return False\n",
        "    else:\n",
        "        return True\n",
        "\n",
        "\n",
        "###################################################\n",
        "# Tests\n",
        "# Student should not change this code.\n",
        "\n",
        "int1_lower, int1_upper, int2_lower, int2_upper = 0, 1, 1, 2\n",
        "print(\"Intervals [\" + str(int1_lower) + \", \" + str(int1_upper) + \"] and [\" +\n",
        "      str(int2_lower) + \", \" + str(int2_upper) + \"] \", end = \"\")\n",
        "if interval_intersect(int1_lower, int1_upper, int2_lower, int2_upper):\n",
        "    print(\"intersect.\")\n",
        "else:\n",
        "    print(\"do not intersect.\")\n",
        "\n",
        "int1_lower, int1_upper, int2_lower, int2_upper = 1, 2, 0, 1\n",
        "print(\"Intervals [\" + str(int1_lower) + \", \" + str(int1_upper) + \"] and [\" +\n",
        "      str(int2_lower) + \", \" + str(int2_upper) + \"] \", end = \"\")\n",
        "if interval_intersect(int1_lower, int1_upper, int2_lower, int2_upper):\n",
        "    print(\"intersect.\")\n",
        "else:\n",
        "    print(\"do not intersect.\")\n",
        "\n",
        "int1_lower, int1_upper, int2_lower, int2_upper = 0, 1, 2, 3\n",
        "print(\"Intervals [\" + str(int1_lower) + \", \" + str(int1_upper) + \"] and [\" +\n",
        "      str(int2_lower) + \", \" + str(int2_upper) + \"] \", end = \"\")\n",
        "if interval_intersect(int1_lower, int1_upper, int2_lower, int2_upper):\n",
        "    print(\"intersect.\")\n",
        "else:\n",
        "    print(\"do not intersect.\")\n",
        "\n",
        "int1_lower, int1_upper, int2_lower, int2_upper = 2, 3, 0, 1\n",
        "print(\"Intervals [\" + str(int1_lower) + \", \" + str(int1_upper) + \"] and [\" +\n",
        "      str(int2_lower) + \", \" + str(int2_upper) + \"] \", end = \"\")\n",
        "if interval_intersect(int1_lower, int1_upper, int2_lower, int2_upper):\n",
        "    print(\"intersect.\")\n",
        "else:\n",
        "    print(\"do not intersect.\")\n",
        "\n",
        "int1_lower, int1_upper, int2_lower, int2_upper = 0, 3, 1, 2\n",
        "print(\"Intervals [\" + str(int1_lower) + \", \" + str(int1_upper) + \"] and [\" +\n",
        "      str(int2_lower) + \", \" + str(int2_upper) + \"] \", end = \"\")\n",
        "if interval_intersect(int1_lower, int1_upper, int2_lower, int2_upper):\n",
        "    print(\"intersect.\")\n",
        "else:\n",
        "    print(\"do not intersect.\")\n",
        "\n",
        "\n",
        "###################################################\n",
        "# Expected output\n",
        "# Student should look at the following comments and compare to printed output.\n",
        "\n",
        "#Intervals [0, 1] and [1, 2] intersect.\n",
        "#Intervals [1, 2] and [0, 1] intersect.\n",
        "#Intervals [0, 1] and [2, 3] do not intersect.\n",
        "#Intervals [2, 3] and [0, 1] do not intersect.\n",
        "#Intervals [0, 3] and [1, 2] intersect."
      ]
    },
    {
      "cell_type": "code",
      "execution_count": null,
      "metadata": {
        "colab": {
          "base_uri": "https://localhost:8080/"
        },
        "id": "EjGPsoGF8ZBB",
        "outputId": "b2965d39-4ac7-4e37-a6d5-5b5c204fb259"
      },
      "outputs": [
        {
          "name": "stdout",
          "output_type": "stream",
          "text": [
            "Joe Warren is 56 years old.\n",
            "Scott Rixner is 40 years old.\n",
            "Error: Invalid age\n"
          ]
        }
      ],
      "source": [
        "\"\"\"\n",
        "Template - Compute the statement about a person's name and age, given the person's name and age.\n",
        "\"\"\"\n",
        "\n",
        "###################################################\n",
        "# Name and age formula\n",
        "# Student should enter function on the next lines.\n",
        "\n",
        "def name_and_age(name, age):\n",
        "    \"\"\"\n",
        "    given a string name and a integer age, return a string to demostrate the integrated information\n",
        "    \"\"\"\n",
        "    if age >= 0:\n",
        "        info = str(name) + \" is \" + str(age) + \" years old.\"\n",
        "    else:\n",
        "        info = \"Error: Invalid age\"\n",
        "\n",
        "    return info\n",
        "\n",
        "\n",
        "###################################################\n",
        "# Tests\n",
        "# Student should not change this code.\n",
        "\n",
        "name, age = \"Joe Warren\", 56\n",
        "print(name_and_age(name, age))\n",
        "\n",
        "name, age = \"Scott Rixner\", 40\n",
        "print(name_and_age(name, age))\n",
        "\n",
        "name, age = \"John Greiner\", -46\n",
        "print(name_and_age(name, age))\n",
        "\n",
        "\n",
        "\n",
        "###################################################\n",
        "# Expected output\n",
        "# Student should look at the following comments and compare to printed output.\n",
        "\n",
        "#Joe Warren is 56 years old.\n",
        "#Scott Rixner is 40 years old.\n",
        "#Error: Invalid age\n"
      ]
    },
    {
      "cell_type": "code",
      "execution_count": null,
      "metadata": {
        "colab": {
          "base_uri": "https://localhost:8080/"
        },
        "id": "U1b01eV1BG1T",
        "outputId": "2ec1d4d7-e878-4c46-eea8-fc94cc850a20"
      },
      "outputs": [
        {
          "name": "stdout",
          "output_type": "stream",
          "text": [
            "The tens digit is 4, and the ones digit is 2.\n",
            "The tens digit is 9, and the ones digit is 9.\n",
            "The tens digit is 0, and the ones digit is 5.\n",
            "Error: Input is not a two-digit number.\n"
          ]
        }
      ],
      "source": [
        "\"\"\"\n",
        "Template - Compute and print tens and ones digit of an integer in [0,100).\n",
        "\"\"\"\n",
        "\n",
        "###################################################\n",
        "# Digits function\n",
        "# Student should enter function on the next lines.\n",
        "\n",
        "def print_digits(number):\n",
        "    \"\"\"\n",
        "\n",
        "    \"\"\"\n",
        "    if number < 0 or number >= 100:\n",
        "        message = \"Error: Input is not a two-digit number.\"\n",
        "    else:\n",
        "        tens_digit = number // 10\n",
        "        ones_digit = number - tens_digit * 10\n",
        "        message = \"The tens digit is \" + str(tens_digit) + \", and the ones digit is \" + str(ones_digit) + \".\"\n",
        "\n",
        "    print(message)\n",
        "\n",
        "\n",
        "###################################################\n",
        "# Tests\n",
        "# Student should not change this code.\n",
        "\n",
        "print_digits(42)\n",
        "print_digits(99)\n",
        "print_digits(5)\n",
        "print_digits(459)\n",
        "\n",
        "\n",
        "###################################################\n",
        "# Expected output\n",
        "# Student should look at the following comments and compare to printed output.\n",
        "\n",
        "#The tens digit is 4, and the ones digit is 2.\n",
        "#The tens digit is 9, and the ones digit is 9.\n",
        "#The tens digit is 0, and the ones digit is 5.\n",
        "#Error: Input is not a two-digit number.\n"
      ]
    },
    {
      "cell_type": "code",
      "execution_count": null,
      "metadata": {
        "colab": {
          "base_uri": "https://localhost:8080/"
        },
        "id": "86Qqef5fC0LN",
        "outputId": "a09d2c5e-297c-4f63-8b2c-0d25b0fc80c9"
      },
      "outputs": [
        {
          "name": "stdout",
          "output_type": "stream",
          "text": [
            "Joe's last name is Warren\n",
            "Scott's last name is Rixner\n",
            "John's last name is Greiner\n",
            "Stephen's last name is Wong\n",
            "Mary's last name is Error: Not an instructor\n"
          ]
        }
      ],
      "source": [
        "\"\"\"\n",
        "Template - Compute instructor's last name, given the first name.\n",
        "\"\"\"\n",
        "\n",
        "###################################################\n",
        "# Name lookup formula\n",
        "# Student should enter function on the next lines.\n",
        "\n",
        "def name_lookup(first_name):\n",
        "    \"\"\"\n",
        "    given a string first_name, return a tring last name of the person.\n",
        "    \"\"\"\n",
        "\n",
        "    if first_name == \"Joe\":\n",
        "        last_name = \"Warren\"\n",
        "    elif first_name == \"Scott\":\n",
        "        last_name = \"Rixner\"\n",
        "    elif first_name == \"John\":\n",
        "        last_name = \"Greiner\"\n",
        "    elif first_name == \"Stephen\":\n",
        "        last_name = \"Wong\"\n",
        "    else:\n",
        "        last_name = \"Error: Not an instructor\"\n",
        "\n",
        "    return last_name\n",
        "\n",
        "\n",
        "###################################################\n",
        "# Tests\n",
        "# Student should not change this code.\n",
        "\n",
        "first_name = \"Joe\"\n",
        "print(first_name + \"'s last name is\", name_lookup(first_name))\n",
        "\n",
        "first_name = \"Scott\"\n",
        "print(first_name + \"'s last name is\", name_lookup(first_name))\n",
        "\n",
        "first_name = \"John\"\n",
        "print(first_name + \"'s last name is\", name_lookup(first_name))\n",
        "\n",
        "first_name = \"Stephen\"\n",
        "print(first_name + \"'s last name is\", name_lookup(first_name))\n",
        "\n",
        "first_name = \"Mary\"\n",
        "print(first_name + \"'s last name is\", name_lookup(first_name))\n",
        "\n",
        "\n",
        "###################################################\n",
        "# Expected output\n",
        "# Student should look at the following comments and compare to printed output.\n",
        "\n",
        "#Joe's last name is Warren\n",
        "#Scott's last name is Rixner\n",
        "#John's last name is Greiner\n",
        "#Stephen's last name is Wong\n",
        "#Mary's last name is Error: Not an instructor\n"
      ]
    },
    {
      "cell_type": "code",
      "execution_count": null,
      "metadata": {
        "colab": {
          "base_uri": "https://localhost:8080/"
        },
        "id": "rJMt7wzBE88L",
        "outputId": "33132a43-c3e1-47d9-84c3-1731cbf99353"
      },
      "outputs": [
        {
          "name": "stdout",
          "output_type": "stream",
          "text": [
            "igway\n",
            "owlay\n",
            "ythonway\n"
          ]
        }
      ],
      "source": [
        "\"\"\"\n",
        "Template - Compute a (simplified) Pig Latin version of a word.\n",
        "\"\"\"\n",
        "\n",
        "###################################################\n",
        "# Pig Latin function\n",
        "def pig_latin(word):\n",
        "    \"\"\"\n",
        "    Returns the (simplified) Pig Latin version of the word.\n",
        "    \"\"\"\n",
        "\n",
        "    # Partial code for body\n",
        "    first_letter = word[0]\n",
        "    rest_of_word = word[1 : ]\n",
        "\n",
        "    # Student should complete function on the next lines\n",
        "    if first_letter == \"a\" or first_letter == \"e\" or first_letter == \"i\" or first_letter == \"o\" or first_letter == \"u\":\n",
        "        return word + \"ay\"\n",
        "    else:\n",
        "        return rest_of_word + \"way\"\n",
        "\n",
        "\n",
        "\n",
        "###################################################\n",
        "# Tests\n",
        "# Student should not change this code.\n",
        "\n",
        "word = \"pig\"\n",
        "print(pig_latin(word))\n",
        "\n",
        "word = \"owl\"\n",
        "print(pig_latin(word))\n",
        "\n",
        "word = \"python\"\n",
        "print(pig_latin(word))\n",
        "\n",
        "###################################################\n",
        "# Expected output\n",
        "# Student should look at the following comments and compare to printed output.\n",
        "\n",
        "#igpay\n",
        "#owlway\n",
        "#ythonpay\n"
      ]
    },
    {
      "cell_type": "markdown",
      "metadata": {
        "id": "6tw-SQJPE8yf"
      },
      "source": []
    },
    {
      "cell_type": "code",
      "execution_count": null,
      "metadata": {
        "colab": {
          "base_uri": "https://localhost:8080/"
        },
        "id": "mK2xxwPpJsj4",
        "outputId": "229d37b8-29ba-4fd1-c713-d8ac9bbc2f39"
      },
      "outputs": [
        {
          "name": "stdout",
          "output_type": "stream",
          "text": [
            "The smaller root of 1x^2 + 2x + 3 is: \n",
            "Error: No real solutions\n",
            "None\n",
            "The smaller root of 2x^2 + 0x + -10 is: \n",
            "-2.23606797749979\n",
            "The smaller root of 6x^2 + -3x + 5 is: \n",
            "Error: No real solutions\n",
            "None\n"
          ]
        }
      ],
      "source": [
        "\"\"\"\n",
        "Template - Compute the smaller root of a quadratic equation.\n",
        "\"\"\"\n",
        "\n",
        "###################################################\n",
        "# Smaller quadratic root formula\n",
        "# Student should enter function on the next lines.\n",
        "\n",
        "def smaller_root(coeff_a, coeff_b, coeff_c):\n",
        "    delta = coeff_b ** 2 - 4 * coeff_a * coeff_c\n",
        "    if delta >= 0:\n",
        "        if coeff_a > 0:\n",
        "            return (-coeff_b - (delta) ** 0.5) / 2 /coeff_a\n",
        "        elif coeff_a == 0:\n",
        "            return \"Error\"\n",
        "        else:\n",
        "            return (-coeff_b + (delta) ** 0.5) / 2 /coeff_a\n",
        "    else:\n",
        "        print(\"Error: No real solutions\")\n",
        "\n",
        "\n",
        "###################################################\n",
        "# Tests\n",
        "# Student should not change this code.\n",
        "\n",
        "coeff_a, coeff_b, coeff_c = 1, 2, 3\n",
        "print(\"The smaller root of \" + str(coeff_a) + \"x^2 + \" + str(coeff_b) +\n",
        "      \"x + \" + str(coeff_c) + \" is: \")\n",
        "print(str(smaller_root(coeff_a, coeff_b, coeff_c)))\n",
        "\n",
        "\n",
        "coeff_a, coeff_b, coeff_c = 2, 0, -10\n",
        "print(\"The smaller root of \" + str(coeff_a) + \"x^2 + \" + str(coeff_b) +\n",
        "      \"x + \" + str(coeff_c) + \" is: \")\n",
        "print(str(smaller_root(coeff_a, coeff_b, coeff_c)))\n",
        "\n",
        "\n",
        "\n",
        "coeff_a, coeff_b, coeff_c = 6, -3, 5\n",
        "print(\"The smaller root of \" + str(coeff_a) + \"x^2 + \" + str(coeff_b) +\n",
        "      \"x + \" + str(coeff_c) + \" is: \")\n",
        "print(str(smaller_root(coeff_a, coeff_b, coeff_c)))\n",
        "\n",
        "\n",
        "###################################################\n",
        "# Expected output\n",
        "# Student should look at the following comments and compare to printed output.\n",
        "\n",
        "#The smaller root of 1x^2 + 2x + 3 is:\n",
        "#Error: No real solutions\n",
        "#None\n",
        "#The smaller root of 2x^2 + 0x + -10 is:\n",
        "#-2.2360679775\n",
        "#The smaller root of 6x^2 + -3x + 5 is:\n",
        "#Error: No real solutions\n",
        "#None\n"
      ]
    },
    {
      "cell_type": "code",
      "execution_count": null,
      "metadata": {
        "id": "yYb2_sZaNg7o"
      },
      "outputs": [],
      "source": []
    },
    {
      "cell_type": "code",
      "execution_count": null,
      "metadata": {
        "colab": {
          "base_uri": "https://localhost:8080/"
        },
        "id": "1o9LOvusMwi-",
        "outputId": "34409ba5-ab9d-4e4d-e09b-f753b4841932"
      },
      "outputs": [
        {
          "data": {
            "text/plain": [
              "(380, 10852)"
            ]
          },
          "execution_count": 48,
          "metadata": {},
          "output_type": "execute_result"
        }
      ],
      "source": [
        "# Let's implement the Collatz function in Python as described in the task.\n",
        "\n",
        "def collatz(n):\n",
        "    if n % 2 == 0:  # If n is even\n",
        "        return n // 2\n",
        "    else:  # If n is odd\n",
        "        return 3 * n + 1\n",
        "\n",
        "# Now we test the implementation for the given expression with 674.\n",
        "# We will also compute the deeply nested expression with 1071 as described.\n",
        "result_674 = collatz(collatz(collatz(collatz(collatz(collatz(674))))))\n",
        "nested_calls = \"collatz(\" * 7 + \"1071\" + \")\" * 7\n",
        "result_1071 = eval(nested_calls)\n",
        "\n",
        "result_674, result_1071\n"
      ]
    },
    {
      "cell_type": "code",
      "execution_count": null,
      "metadata": {
        "id": "53bv5d-hNiYv"
      },
      "outputs": [],
      "source": []
    },
    {
      "cell_type": "code",
      "execution_count": null,
      "metadata": {
        "colab": {
          "base_uri": "https://localhost:8080/"
        },
        "id": "FMKznk4_Niwe",
        "outputId": "87e41e2a-0806-4a7b-a2dc-1dc28b4bfa43"
      },
      "outputs": [
        {
          "name": "stdout",
          "output_type": "stream",
          "text": [
            "190\n",
            "3053\n"
          ]
        }
      ],
      "source": [
        "def f(n):\n",
        "  if n % 2 == 0:\n",
        "    return n // 2\n",
        "  else:\n",
        "    return 3 * n + 1\n",
        "\n",
        "print(f(f(f(f(f(f(f(674))))))))\n",
        "print(f(f(f(f(f(f(f(f(f(f(f(f(f(f(1071)))))))))))))))"
      ]
    },
    {
      "cell_type": "markdown",
      "metadata": {
        "id": "Y-WJw_OXMrKD"
      },
      "source": [
        "# ⭐final project\n"
      ]
    },
    {
      "cell_type": "code",
      "execution_count": null,
      "metadata": {
        "colab": {
          "base_uri": "https://localhost:8080/"
        },
        "id": "yyDVZTHT62ns",
        "outputId": "c1991859-c34f-4bf6-92ae-9f2f81437e32"
      },
      "outputs": [
        {
          "name": "stdout",
          "output_type": "stream",
          "text": [
            "True\n",
            "True\n",
            "True\n",
            "True\n",
            "-----------------------------\n",
            "True\n",
            "True\n",
            "False\n",
            "False\n",
            "False\n",
            "False\n",
            "True\n",
            "-----------------------------\n",
            "True\n",
            "True\n",
            "True\n",
            "True\n",
            "True\n",
            "True\n",
            "True\n",
            "-----------------------------\n",
            "True\n",
            "True\n",
            "True\n",
            "False\n",
            "True\n",
            "9127\n"
          ]
        }
      ],
      "source": [
        "\"\"\"\n",
        "Project for Week 4 of \"Python Programming Essentials\".\n",
        "Collection of functions to process dates.\n",
        "\n",
        "Be sure to read the project description page for further information\n",
        "about the expected behavior of the program.\n",
        "\"\"\"\n",
        "\n",
        "import datetime\n",
        "\n",
        "def days_in_month(year, month):\n",
        "    \"\"\"\n",
        "    Inputs:\n",
        "      year  - an integer between datetime.MINYEAR and datetime.MAXYEAR\n",
        "              representing the year\n",
        "      month - an integer between 1 and 12 representing the month\n",
        "\n",
        "    Returns:\n",
        "      The number of days in the input month.\n",
        "    \"\"\"\n",
        "    if month == 12:\t\t\t\t\t\t\t\t\t\t\t\t\t\t\t\t#when the month is 12\n",
        "        delta_days = 31\n",
        "    else:\t\t\t\t\t\t\t\t\t\t\t\t\t\t\t\t\t\t#when the month is not 12\n",
        "        date_next_first = datetime.date(year, month+1, 1)\n",
        "        date_current_first = datetime.date(year, month, 1)\n",
        "        delta_days = (date_next_first - date_current_first).days\t\t\t\t#the difference of the first day of current month and the one of next month\n",
        "    return delta_days\n",
        "\n",
        "\n",
        "\n",
        "def is_valid_date(year, month, day):\n",
        "    \"\"\"\n",
        "    Inputs:\n",
        "      year  - an integer representing the year\n",
        "      month - an integer representing the month\n",
        "      day   - an integer representing the day\n",
        "\n",
        "    Returns:\n",
        "      True if year-month-day is a valid date and\n",
        "      False otherwise\n",
        "    \"\"\"\n",
        "    if year >= datetime.MINYEAR and year <= datetime.MAXYEAR:\t\t\t\t\t#year validity\n",
        "        if month >= 1 and month <= 12:\t\t\t\t\t\t\t\t\t\t\t#month validity\n",
        "            if day <= days_in_month(year, month) and day >= 1:\t\t\t\t\t#day validity\n",
        "                return True\n",
        "    return False\n",
        "\n",
        "\n",
        "\n",
        "def days_between(year1, month1, day1, year2, month2, day2):\n",
        "    \"\"\"\n",
        "    Inputs:\n",
        "      year1  - an integer representing the year of the first date\n",
        "      month1 - an integer representing the month of the first date\n",
        "      day1   - an integer representing the day of the first date\n",
        "      year2  - an integer representing the year of the second date\n",
        "      month2 - an integer representing the month of the second date\n",
        "      day2   - an integer representing the day of the second date\n",
        "\n",
        "    Returns:\n",
        "      The number of days from the first date to the second date.\n",
        "      Returns 0 if either date is invalid or the second date is\n",
        "      before the first date.\n",
        "    \"\"\"\n",
        "    if is_valid_date(year1, month1, day1) and is_valid_date(year2, month2, day2):  #date validity\n",
        "        date1 = datetime.date(year1, month1, day1)\n",
        "        date2 = datetime.date(year2, month2, day2)\n",
        "        if date2 > date1:\t\t\t\t\t\t\t\t\t\t\t\t\t   \t   #order validity\n",
        "            return (date2 - date1).days\n",
        "    return 0\n",
        "\n",
        "\n",
        "\n",
        "def age_in_days(year, month, day):\n",
        "    \"\"\"\n",
        "    Inputs:\n",
        "      year  - an integer representing the birthday year\n",
        "      month - an integer representing the birthday month\n",
        "      day   - an integer representing the birthday day\n",
        "\n",
        "    Returns:\n",
        "      The age of a person with the input birthday as of today.\n",
        "      Returns 0 if the input date is invalid or if the input\n",
        "      date is in the future.\n",
        "    \"\"\"\n",
        "\n",
        "    todays_date = datetime.date.today()\n",
        "    if is_valid_date(year, month, day) is False:\t\t\t\t   \t  \t#date invalidity\n",
        "        return 0\n",
        "    else:\n",
        "        birth_date = datetime.date(year, month, day)\n",
        "        if birth_date > todays_date:\t   \t  \t\t\t \t\t\t\t\t\t\t#order invalidity\n",
        "            return 0\n",
        "        age = (todays_date - birth_date).days\n",
        "        return age\n",
        "\n",
        "\n",
        "#this is for testing\n",
        "#function1\n",
        "print(days_in_month(2021, 12) == 31)\n",
        "print(days_in_month(2000, 2) == 29)\n",
        "print(days_in_month(2001, 2) == 28)\n",
        "print(days_in_month(2100, 2) == 28)\n",
        "#funtion2\n",
        "print(\"-----------------------------\")\n",
        "print(is_valid_date(2000, 2, 29))\n",
        "print(is_valid_date(1998, 1, 25))\n",
        "print(is_valid_date(2000, 2, 30))\n",
        "print(is_valid_date(2000, 13, 29))\n",
        "print(is_valid_date(2000, 0, 29))\n",
        "print(is_valid_date(10000, 2, 21))\n",
        "print(is_valid_date(1, 2, 21))\n",
        "#funtion3\n",
        "print(\"-----------------------------\")\n",
        "print(days_between(2021, 1, 1, 2022, 1, 1) == 365)\n",
        "print(days_between(2021, 1, 1, 2021, 1, 2) == 1)\n",
        "print(days_between(2021, 1, 1, 2021, 1, 1) == 0)\n",
        "print(days_between(2021, 1, 1, 2020, 12, 31) == 0)\n",
        "print(days_between(2021, 1, 1, 2021, 1, 1) == 0)\n",
        "print(days_between(2021, 13, 1, 2020, 12, 31) == 0)\n",
        "print(days_between(2021, 2, 1, 2022, 2, 29) == 0)\n",
        "#funtion4\n",
        "print(\"-----------------------------\")\n",
        "print(age_in_days(2024, 2, 7) == 0)\n",
        "print(age_in_days(2021, 2, 30) == 0)\n",
        "print(age_in_days(2026, 2, 5) == 0)\n",
        "print(age_in_days(2016, 2, 5) == 0)\n",
        "print(age_in_days(1999, 2, 29) == 0)\n",
        "print(age_in_days(1999, 2, 9))"
      ]
    }
  ],
  "metadata": {
    "colab": {
      "collapsed_sections": [
        "bJukrVEZuPNn"
      ],
      "provenance": []
    },
    "kernelspec": {
      "display_name": "Python 3",
      "name": "python3"
    },
    "language_info": {
      "name": "python"
    }
  },
  "nbformat": 4,
  "nbformat_minor": 0
}
